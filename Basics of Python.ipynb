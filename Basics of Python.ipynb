{
 "cells": [
  {
   "cell_type": "markdown",
   "id": "77738e72",
   "metadata": {},
   "source": [
    "## Basic addition of numbers."
   ]
  },
  {
   "cell_type": "code",
   "execution_count": 1,
   "id": "200ab063",
   "metadata": {},
   "outputs": [
    {
     "data": {
      "text/plain": [
       "2"
      ]
     },
     "execution_count": 1,
     "metadata": {},
     "output_type": "execute_result"
    }
   ],
   "source": [
    "1+1"
   ]
  },
  {
   "cell_type": "code",
   "execution_count": 2,
   "id": "e34ee947",
   "metadata": {},
   "outputs": [
    {
     "data": {
      "text/plain": [
       "7"
      ]
     },
     "execution_count": 2,
     "metadata": {},
     "output_type": "execute_result"
    }
   ],
   "source": [
    "3+4"
   ]
  },
  {
   "cell_type": "markdown",
   "id": "e2e489a6",
   "metadata": {},
   "source": [
    "Paragraphs are the building blocks of papers. Many students define paragraphs in terms of length: a paragraph is a group of at least five sentences, a paragraph is half a page long, etc. In reality, though, the unity and coherence of ideas among sentences is what constitutes a paragraph. A paragraph is defined as “a group of sentences or a single sentence that forms a unit” (Lunsford and Connors 116). Length and appearance do not determine whether a section in a paper is a paragraph. For instance, in some styles of writing, particularly journalistic styles, a paragraph can be just one sentence long. Ultimately, a paragraph is a sentence or group of sentences that support one main idea. In this handout, we will refer to this as the “controlling idea,” because it controls what happens in the rest of the paragraph."
   ]
  },
  {
   "cell_type": "markdown",
   "id": "b69a0ee7",
   "metadata": {},
   "source": [
    "# Name "
   ]
  },
  {
   "cell_type": "code",
   "execution_count": 5,
   "id": "fe521dd5",
   "metadata": {},
   "outputs": [],
   "source": [
    "a=10"
   ]
  },
  {
   "cell_type": "code",
   "execution_count": 7,
   "id": "c78854be",
   "metadata": {},
   "outputs": [
    {
     "data": {
      "text/plain": [
       "4"
      ]
     },
     "execution_count": 7,
     "metadata": {},
     "output_type": "execute_result"
    }
   ],
   "source": [
    "a-6"
   ]
  },
  {
   "cell_type": "markdown",
   "id": "7abd6f8e",
   "metadata": {},
   "source": [
    "The int in python is a built-in method that converts a string or a number into an integer"
   ]
  },
  {
   "cell_type": "code",
   "execution_count": 8,
   "id": "02e1228f",
   "metadata": {},
   "outputs": [
    {
     "data": {
      "text/plain": [
       "int"
      ]
     },
     "execution_count": 8,
     "metadata": {},
     "output_type": "execute_result"
    }
   ],
   "source": [
    "type(a)"
   ]
  },
  {
   "cell_type": "code",
   "execution_count": 10,
   "id": "d4bef58f",
   "metadata": {},
   "outputs": [],
   "source": [
    "bhu=78.09"
   ]
  },
  {
   "cell_type": "code",
   "execution_count": 12,
   "id": "49e940ea",
   "metadata": {},
   "outputs": [
    {
     "data": {
      "text/plain": [
       "float"
      ]
     },
     "execution_count": 12,
     "metadata": {},
     "output_type": "execute_result"
    }
   ],
   "source": [
    "type(bhu)"
   ]
  },
  {
   "cell_type": "markdown",
   "id": "b2a45914",
   "metadata": {},
   "source": [
    "In Python, a float is a built-in data type used to represent decimal numbers. It stands for \"floating-point number\" and is used to store real numbers that can have a fractional part."
   ]
  },
  {
   "cell_type": "code",
   "execution_count": null,
   "id": "83d34f4e",
   "metadata": {},
   "outputs": [],
   "source": []
  },
  {
   "cell_type": "code",
   "execution_count": 16,
   "id": "762b5f6b",
   "metadata": {},
   "outputs": [],
   "source": [
    "v=\"this is my firsr calss of python\""
   ]
  },
  {
   "cell_type": "code",
   "execution_count": 17,
   "id": "983c3b9c",
   "metadata": {},
   "outputs": [
    {
     "data": {
      "text/plain": [
       "str"
      ]
     },
     "execution_count": 17,
     "metadata": {},
     "output_type": "execute_result"
    }
   ],
   "source": [
    "type(v)"
   ]
  },
  {
   "cell_type": "markdown",
   "id": "eff83022",
   "metadata": {},
   "source": [
    "In Python, \"str\" is a built-in data type used to represent strings, which are sequences of characters. A string is a collection of characters enclosed within single quotes (''), double quotes (\"\") or triple quotes (''' ''')."
   ]
  },
  {
   "cell_type": "code",
   "execution_count": 18,
   "id": "2c1cc8a2",
   "metadata": {},
   "outputs": [],
   "source": [
    "h='second day of python'"
   ]
  },
  {
   "cell_type": "code",
   "execution_count": 20,
   "id": "198239ca",
   "metadata": {},
   "outputs": [
    {
     "data": {
      "text/plain": [
       "str"
      ]
     },
     "execution_count": 20,
     "metadata": {},
     "output_type": "execute_result"
    }
   ],
   "source": [
    "type(h)"
   ]
  },
  {
   "cell_type": "code",
   "execution_count": 21,
   "id": "07a65039",
   "metadata": {},
   "outputs": [],
   "source": [
    "q=True"
   ]
  },
  {
   "cell_type": "code",
   "execution_count": 25,
   "id": "b31fd429",
   "metadata": {},
   "outputs": [
    {
     "data": {
      "text/plain": [
       "bool"
      ]
     },
     "execution_count": 25,
     "metadata": {},
     "output_type": "execute_result"
    }
   ],
   "source": [
    "type(q)"
   ]
  },
  {
   "cell_type": "markdown",
   "id": "c34ad401",
   "metadata": {},
   "source": [
    "In Python, 'bool' is a built-in data type used to represent boolean values. A boolean value can be either True or False. Booleans are often used in programming for making logical decisions and controlling the flow of a program."
   ]
  },
  {
   "cell_type": "code",
   "execution_count": 26,
   "id": "e5361993",
   "metadata": {},
   "outputs": [
    {
     "data": {
      "text/plain": [
       "True"
      ]
     },
     "execution_count": 26,
     "metadata": {},
     "output_type": "execute_result"
    }
   ],
   "source": [
    "q"
   ]
  },
  {
   "cell_type": "code",
   "execution_count": 27,
   "id": "59113419",
   "metadata": {},
   "outputs": [],
   "source": [
    "w=False"
   ]
  },
  {
   "cell_type": "code",
   "execution_count": 28,
   "id": "ce15fa50",
   "metadata": {},
   "outputs": [
    {
     "data": {
      "text/plain": [
       "bool"
      ]
     },
     "execution_count": 28,
     "metadata": {},
     "output_type": "execute_result"
    }
   ],
   "source": [
    "type(w)"
   ]
  },
  {
   "cell_type": "code",
   "execution_count": 29,
   "id": "e7fd6b36",
   "metadata": {},
   "outputs": [
    {
     "data": {
      "text/plain": [
       "False"
      ]
     },
     "execution_count": 29,
     "metadata": {},
     "output_type": "execute_result"
    }
   ],
   "source": [
    "w"
   ]
  },
  {
   "cell_type": "code",
   "execution_count": 30,
   "id": "eb97513d",
   "metadata": {},
   "outputs": [
    {
     "data": {
      "text/plain": [
       "1"
      ]
     },
     "execution_count": 30,
     "metadata": {},
     "output_type": "execute_result"
    }
   ],
   "source": [
    "True-False"
   ]
  },
  {
   "cell_type": "code",
   "execution_count": 31,
   "id": "be436651",
   "metadata": {},
   "outputs": [
    {
     "data": {
      "text/plain": [
       "-1"
      ]
     },
     "execution_count": 31,
     "metadata": {},
     "output_type": "execute_result"
    }
   ],
   "source": [
    "False-True"
   ]
  },
  {
   "cell_type": "code",
   "execution_count": 32,
   "id": "82476d3c",
   "metadata": {},
   "outputs": [
    {
     "data": {
      "text/plain": [
       "0"
      ]
     },
     "execution_count": 32,
     "metadata": {},
     "output_type": "execute_result"
    }
   ],
   "source": [
    "True*False"
   ]
  },
  {
   "cell_type": "code",
   "execution_count": 33,
   "id": "ac652ac5",
   "metadata": {},
   "outputs": [
    {
     "data": {
      "text/plain": [
       "1"
      ]
     },
     "execution_count": 33,
     "metadata": {},
     "output_type": "execute_result"
    }
   ],
   "source": [
    "True+False"
   ]
  },
  {
   "cell_type": "code",
   "execution_count": 35,
   "id": "c3f826a4",
   "metadata": {},
   "outputs": [
    {
     "ename": "SyntaxError",
     "evalue": "invalid syntax (1547906061.py, line 1)",
     "output_type": "error",
     "traceback": [
      "\u001b[1;36m  Cell \u001b[1;32mIn[35], line 1\u001b[1;36m\u001b[0m\n\u001b[1;33m    here True= 1 False=0\u001b[0m\n\u001b[1;37m         ^\u001b[0m\n\u001b[1;31mSyntaxError\u001b[0m\u001b[1;31m:\u001b[0m invalid syntax\n"
     ]
    }
   ],
   "source": [
    "here True= 1 False=0"
   ]
  },
  {
   "cell_type": "code",
   "execution_count": 36,
   "id": "612ddf02",
   "metadata": {},
   "outputs": [
    {
     "ename": "ZeroDivisionError",
     "evalue": "division by zero",
     "output_type": "error",
     "traceback": [
      "\u001b[1;31m---------------------------------------------------------------------------\u001b[0m",
      "\u001b[1;31mZeroDivisionError\u001b[0m                         Traceback (most recent call last)",
      "Cell \u001b[1;32mIn[36], line 1\u001b[0m\n\u001b[1;32m----> 1\u001b[0m \u001b[38;5;28;43;01mTrue\u001b[39;49;00m\u001b[38;5;241;43m/\u001b[39;49m\u001b[38;5;28;43;01mFalse\u001b[39;49;00m\n",
      "\u001b[1;31mZeroDivisionError\u001b[0m: division by zero"
     ]
    }
   ],
   "source": [
    "True/False"
   ]
  },
  {
   "cell_type": "code",
   "execution_count": 37,
   "id": "577bb27e",
   "metadata": {},
   "outputs": [],
   "source": [
    "n=6+7j"
   ]
  },
  {
   "cell_type": "code",
   "execution_count": 38,
   "id": "065b0900",
   "metadata": {},
   "outputs": [
    {
     "data": {
      "text/plain": [
       "complex"
      ]
     },
     "execution_count": 38,
     "metadata": {},
     "output_type": "execute_result"
    }
   ],
   "source": [
    "type(n)"
   ]
  },
  {
   "cell_type": "markdown",
   "id": "ead41c1b",
   "metadata": {},
   "source": [
    "here j represent complex number"
   ]
  },
  {
   "cell_type": "code",
   "execution_count": 39,
   "id": "5b0b1bb6",
   "metadata": {},
   "outputs": [
    {
     "data": {
      "text/plain": [
       "(12+14j)"
      ]
     },
     "execution_count": 39,
     "metadata": {},
     "output_type": "execute_result"
    }
   ],
   "source": [
    "n+n"
   ]
  },
  {
   "cell_type": "code",
   "execution_count": 40,
   "id": "d0375819",
   "metadata": {},
   "outputs": [
    {
     "data": {
      "text/plain": [
       "(6+7j)"
      ]
     },
     "execution_count": 40,
     "metadata": {},
     "output_type": "execute_result"
    }
   ],
   "source": [
    "n"
   ]
  },
  {
   "cell_type": "code",
   "execution_count": 45,
   "id": "97e8ea19",
   "metadata": {},
   "outputs": [
    {
     "data": {
      "text/plain": [
       "7.0"
      ]
     },
     "execution_count": 45,
     "metadata": {},
     "output_type": "execute_result"
    }
   ],
   "source": [
    "n.imag"
   ]
  },
  {
   "cell_type": "markdown",
   "id": "16a284b3",
   "metadata": {},
   "source": [
    "to sepreate imaginary and real part of complex number presss (.) and press tab "
   ]
  },
  {
   "cell_type": "code",
   "execution_count": 49,
   "id": "9fc41dbe",
   "metadata": {},
   "outputs": [],
   "source": [
    "u='this is my first class of python'"
   ]
  },
  {
   "cell_type": "code",
   "execution_count": 50,
   "id": "70b9db2d",
   "metadata": {},
   "outputs": [
    {
     "data": {
      "text/plain": [
       "str"
      ]
     },
     "execution_count": 50,
     "metadata": {},
     "output_type": "execute_result"
    }
   ],
   "source": [
    "type(u)"
   ]
  },
  {
   "cell_type": "markdown",
   "id": "5fd09dd8",
   "metadata": {},
   "source": [
    "to know more details of any type select it and press shift+tab"
   ]
  },
  {
   "cell_type": "code",
   "execution_count": 51,
   "id": "9a47cb3f",
   "metadata": {},
   "outputs": [
    {
     "data": {
      "text/plain": [
       "<function complex.conjugate()>"
      ]
     },
     "execution_count": 51,
     "metadata": {},
     "output_type": "execute_result"
    }
   ],
   "source": [
    "n.conjugate"
   ]
  },
  {
   "cell_type": "code",
   "execution_count": 65,
   "id": "6fcef564",
   "metadata": {},
   "outputs": [],
   "source": [
    "l=[3,4,5,6,\"bhu\",True,6+7j,78.09]"
   ]
  },
  {
   "cell_type": "code",
   "execution_count": 66,
   "id": "aaa8acc5",
   "metadata": {},
   "outputs": [
    {
     "data": {
      "text/plain": [
       "list"
      ]
     },
     "execution_count": 66,
     "metadata": {},
     "output_type": "execute_result"
    }
   ],
   "source": [
    "type(l)"
   ]
  },
  {
   "cell_type": "code",
   "execution_count": 67,
   "id": "b9d02bb0",
   "metadata": {},
   "outputs": [
    {
     "data": {
      "text/plain": [
       "(6+7j)"
      ]
     },
     "execution_count": 67,
     "metadata": {},
     "output_type": "execute_result"
    }
   ],
   "source": [
    "l[6]"
   ]
  },
  {
   "cell_type": "code",
   "execution_count": 71,
   "id": "8c35277f",
   "metadata": {},
   "outputs": [],
   "source": [
    "t=(345,234,123)"
   ]
  },
  {
   "cell_type": "code",
   "execution_count": 72,
   "id": "3ab743b6",
   "metadata": {},
   "outputs": [
    {
     "data": {
      "text/plain": [
       "tuple"
      ]
     },
     "execution_count": 72,
     "metadata": {},
     "output_type": "execute_result"
    }
   ],
   "source": [
    "type(t)"
   ]
  },
  {
   "cell_type": "markdown",
   "id": "81acf8bc",
   "metadata": {},
   "source": [
    " In Python, a tuple is a built-in data type used to represent an ordered, immutable sequence of elements."
   ]
  },
  {
   "cell_type": "code",
   "execution_count": 80,
   "id": "5dc062a1",
   "metadata": {},
   "outputs": [],
   "source": [
    "d={'a':\"sudh\",\"b\":\"kumar\",'c':23432}"
   ]
  },
  {
   "cell_type": "code",
   "execution_count": 81,
   "id": "08668890",
   "metadata": {},
   "outputs": [
    {
     "data": {
      "text/plain": [
       "dict"
      ]
     },
     "execution_count": 81,
     "metadata": {},
     "output_type": "execute_result"
    }
   ],
   "source": [
    "type(d)"
   ]
  },
  {
   "cell_type": "markdown",
   "id": "25ecd5c1",
   "metadata": {},
   "source": [
    "In Python, 'dict' is a built-in data type used to represent a collection of key-value pairs. It is also known as a dictionary."
   ]
  },
  {
   "cell_type": "code",
   "execution_count": 86,
   "id": "f3cffc03",
   "metadata": {},
   "outputs": [],
   "source": [
    "d = {45}"
   ]
  },
  {
   "cell_type": "code",
   "execution_count": 87,
   "id": "5d54d88e",
   "metadata": {},
   "outputs": [
    {
     "data": {
      "text/plain": [
       "set"
      ]
     },
     "execution_count": 87,
     "metadata": {},
     "output_type": "execute_result"
    }
   ],
   "source": [
    "type(d)"
   ]
  },
  {
   "cell_type": "markdown",
   "id": "605707e6",
   "metadata": {},
   "source": [
    "In Python, a 'set' is an unordered collection of unique elements. It is defined by enclosing a comma-separated sequence of elements inside curly braces '{}'."
   ]
  },
  {
   "cell_type": "code",
   "execution_count": null,
   "id": "ad5697b7",
   "metadata": {},
   "outputs": [],
   "source": []
  }
 ],
 "metadata": {
  "kernelspec": {
   "display_name": "Python 3 (ipykernel)",
   "language": "python",
   "name": "python3"
  },
  "language_info": {
   "codemirror_mode": {
    "name": "ipython",
    "version": 3
   },
   "file_extension": ".py",
   "mimetype": "text/x-python",
   "name": "python",
   "nbconvert_exporter": "python",
   "pygments_lexer": "ipython3",
   "version": "3.10.9"
  }
 },
 "nbformat": 4,
 "nbformat_minor": 5
}
