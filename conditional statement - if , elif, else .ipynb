{
 "cells": [
  {
   "cell_type": "code",
   "execution_count": 1,
   "id": "f9d0254b",
   "metadata": {},
   "outputs": [
    {
     "name": "stdout",
     "output_type": "stream",
     "text": [
      "this is m first cindition\n"
     ]
    }
   ],
   "source": [
    "a=10\n",
    "if a==10:\n",
    "    print(\"this is m first cindition\")"
   ]
  },
  {
   "cell_type": "code",
   "execution_count": 2,
   "id": "4c93885c",
   "metadata": {},
   "outputs": [],
   "source": [
    "a=10\n",
    "if a==11:\n",
    "    print(\"this is m first cindition\")"
   ]
  },
  {
   "cell_type": "code",
   "execution_count": 3,
   "id": "9d184034",
   "metadata": {},
   "outputs": [],
   "source": [
    "a=10\n",
    "if a>10:\n",
    "    pass"
   ]
  },
  {
   "cell_type": "code",
   "execution_count": 4,
   "id": "e7161f11",
   "metadata": {},
   "outputs": [],
   "source": [
    "a=10\n",
    "if a<10:\n",
    "    print(\"this is m first cindition\")"
   ]
  },
  {
   "cell_type": "code",
   "execution_count": 5,
   "id": "3f4de2ff",
   "metadata": {},
   "outputs": [
    {
     "name": "stdout",
     "output_type": "stream",
     "text": [
      "this is m first cindition\n"
     ]
    }
   ],
   "source": [
    "a=10\n",
    "if a!=11:\n",
    "    print(\"this is m first cindition\")\n",
    "else:\n",
    "    print(\"print this\")"
   ]
  },
  {
   "cell_type": "code",
   "execution_count": 6,
   "id": "93525f21",
   "metadata": {},
   "outputs": [
    {
     "name": "stdout",
     "output_type": "stream",
     "text": [
      "print this\n"
     ]
    }
   ],
   "source": [
    "a=10\n",
    "if a!=10:\n",
    "    print(\"this is m first cindition\")\n",
    "else:\n",
    "    print(\"print this\")"
   ]
  },
  {
   "cell_type": "code",
   "execution_count": 8,
   "id": "13c19910",
   "metadata": {},
   "outputs": [
    {
     "name": "stdout",
     "output_type": "stream",
     "text": [
      "we are trying to compare 10 with 11\n"
     ]
    }
   ],
   "source": [
    "a = 10\n",
    "if a == 12:\n",
    "    print(\"here we are trying to compare 10 with 12\")\n",
    "elif a == 10:\n",
    "    print(\"we are trying to compare 10 with 11\")\n",
    "else:\n",
    "    print(\"if all block will fail then do this\")"
   ]
  },
  {
   "cell_type": "code",
   "execution_count": 11,
   "id": "699a6d5c",
   "metadata": {},
   "outputs": [
    {
     "name": "stdout",
     "output_type": "stream",
     "text": [
      " for sure i will buy the jacket\n"
     ]
    }
   ],
   "source": [
    "price = 500\n",
    "if price > 500:\n",
    "    print(\" i won't be able to buy the jacket\")\n",
    "elif price < 500:\n",
    "    print(\"i will be able to buy the jacket\")\n",
    "elif price == 500:\n",
    "    print(\" for sure i will buy the jacket\")\n",
    "else:  \n",
    "    print(\"i don't know\")"
   ]
  },
  {
   "cell_type": "code",
   "execution_count": 12,
   "id": "9b92687f",
   "metadata": {},
   "outputs": [
    {
     "data": {
      "text/plain": [
       "False"
      ]
     },
     "execution_count": 12,
     "metadata": {},
     "output_type": "execute_result"
    }
   ],
   "source": [
    "price > 500"
   ]
  },
  {
   "cell_type": "code",
   "execution_count": 13,
   "id": "342cbc6d",
   "metadata": {},
   "outputs": [
    {
     "data": {
      "text/plain": [
       "True"
      ]
     },
     "execution_count": 13,
     "metadata": {},
     "output_type": "execute_result"
    }
   ],
   "source": [
    "price == 500"
   ]
  },
  {
   "cell_type": "code",
   "execution_count": 14,
   "id": "3f628f43",
   "metadata": {},
   "outputs": [],
   "source": [
    "l=[1,2,3,4,5]"
   ]
  },
  {
   "cell_type": "code",
   "execution_count": 16,
   "id": "f8113c22",
   "metadata": {},
   "outputs": [
    {
     "data": {
      "text/plain": [
       "True"
      ]
     },
     "execution_count": 16,
     "metadata": {},
     "output_type": "execute_result"
    }
   ],
   "source": [
    "2 in l"
   ]
  },
  {
   "cell_type": "code",
   "execution_count": 18,
   "id": "a5ca4508",
   "metadata": {},
   "outputs": [
    {
     "name": "stdout",
     "output_type": "stream",
     "text": [
      "try to perform the task\n"
     ]
    }
   ],
   "source": [
    "if 2 in l:\n",
    "    print(\"try to perform the task\")\n",
    "else:\n",
    "    print(\"do not perform the task\")"
   ]
  },
  {
   "cell_type": "code",
   "execution_count": 19,
   "id": "46e6ac70",
   "metadata": {},
   "outputs": [
    {
     "name": "stdout",
     "output_type": "stream",
     "text": [
      "do not perform the task\n"
     ]
    }
   ],
   "source": [
    "if 30 in l:\n",
    "    print(\"try to perform the task\")\n",
    "else:\n",
    "    print(\"do not perform the task\")"
   ]
  },
  {
   "cell_type": "code",
   "execution_count": 20,
   "id": "fe52db75",
   "metadata": {},
   "outputs": [
    {
     "data": {
      "text/plain": [
       "[1, 2, 3, 4, 5]"
      ]
     },
     "execution_count": 20,
     "metadata": {},
     "output_type": "execute_result"
    }
   ],
   "source": [
    "l"
   ]
  },
  {
   "cell_type": "code",
   "execution_count": 24,
   "id": "f78cd748",
   "metadata": {},
   "outputs": [
    {
     "name": "stdout",
     "output_type": "stream",
     "text": [
      "try to do addition\n"
     ]
    }
   ],
   "source": [
    "if 1 in l:                          # if the first condition is true then it do not check the other conditions \n",
    "    print(\"try to do addition\")     # it dosen't matter that other codition are true or false\n",
    "elif 2  in l:\n",
    "    print(\"try to do sub\")\n",
    "else:\n",
    "    print(\"try to od multi\")"
   ]
  },
  {
   "cell_type": "code",
   "execution_count": 25,
   "id": "36dfebf1",
   "metadata": {},
   "outputs": [
    {
     "name": "stdout",
     "output_type": "stream",
     "text": [
      "try to do sub\n"
     ]
    }
   ],
   "source": [
    "if 10 in l:                          # if the first condition is true then it do not check the other conditions \n",
    "    print(\"try to do addition\")     # it dosen't matter that other codition are true or false\n",
    "elif 2  in l:\n",
    "    print(\"try to do sub\")\n",
    "else:\n",
    "    print(\"try to od multi\")"
   ]
  },
  {
   "cell_type": "code",
   "execution_count": 27,
   "id": "072b7c0b",
   "metadata": {},
   "outputs": [
    {
     "name": "stdout",
     "output_type": "stream",
     "text": [
      "try to do addition\n",
      "this is new statement\n"
     ]
    }
   ],
   "source": [
    "if 1 in l:                          # if the first condition is true then it do not check the other conditions \n",
    "    print(\"try to do addition\")     # it dosen't matter that other codition are true or false\n",
    "elif 2  in l:\n",
    "    print(\"try to do sub\")\n",
    "else:\n",
    "    print(\"try to od multi\")\n",
    "if 4 in l:\n",
    "    print(\"this is new statement\")\n",
    "        "
   ]
  },
  {
   "cell_type": "code",
   "execution_count": 28,
   "id": "ff9574b2",
   "metadata": {},
   "outputs": [],
   "source": [
    "     a=100"
   ]
  },
  {
   "cell_type": "code",
   "execution_count": 32,
   "id": "75297a91",
   "metadata": {},
   "outputs": [
    {
     "name": "stdout",
     "output_type": "stream",
     "text": [
      "1253\n"
     ]
    }
   ],
   "source": [
    "b=int(input()) # input command can take the input from the user in runtime "
   ]
  },
  {
   "cell_type": "code",
   "execution_count": 33,
   "id": "6cb28f30",
   "metadata": {},
   "outputs": [
    {
     "data": {
      "text/plain": [
       "int"
      ]
     },
     "execution_count": 33,
     "metadata": {},
     "output_type": "execute_result"
    }
   ],
   "source": [
    "type(b)"
   ]
  },
  {
   "cell_type": "code",
   "execution_count": 35,
   "id": "5f093e83",
   "metadata": {},
   "outputs": [
    {
     "name": "stdout",
     "output_type": "stream",
     "text": [
      "xkfjbg\n"
     ]
    },
    {
     "ename": "ValueError",
     "evalue": "invalid literal for int() with base 10: 'xkfjbg'",
     "output_type": "error",
     "traceback": [
      "\u001b[1;31m---------------------------------------------------------------------------\u001b[0m",
      "\u001b[1;31mValueError\u001b[0m                                Traceback (most recent call last)",
      "Cell \u001b[1;32mIn[35], line 1\u001b[0m\n\u001b[1;32m----> 1\u001b[0m b\u001b[38;5;241m=\u001b[39m\u001b[38;5;28mint\u001b[39m(\u001b[38;5;28minput\u001b[39m())\n",
      "\u001b[1;31mValueError\u001b[0m: invalid literal for int() with base 10: 'xkfjbg'"
     ]
    }
   ],
   "source": [
    "b=int(input())"
   ]
  },
  {
   "cell_type": "code",
   "execution_count": 8,
   "id": "b6841146",
   "metadata": {},
   "outputs": [
    {
     "name": "stdout",
     "output_type": "stream",
     "text": [
      "850\n",
      "i won't be able to buy anything with this price tag    \n"
     ]
    }
   ],
   "source": [
    "price = int(input())\n",
    "if price < 500:\n",
    "    print(\"i will be able to buy something\")\n",
    "    if price < 400:\n",
    "        print(\"i will be able to buy a jacket\")\n",
    "    elif price < 300:\n",
    "        print(\"i will be able to buy a shirt\")\n",
    "else : \n",
    "    print(\"i won't be able to buy anything with this price tag\\\n",
    "    \")"
   ]
  },
  {
   "cell_type": "code",
   "execution_count": 10,
   "id": "c935f140",
   "metadata": {},
   "outputs": [
    {
     "name": "stdout",
     "output_type": "stream",
     "text": [
      "450\n",
      "i will be able to buy something\n"
     ]
    }
   ],
   "source": [
    "price = int(input())\n",
    "if price < 500:\n",
    "    print(\"i will be able to buy something\")\n",
    "    if price < 400:\n",
    "        print(\"i will be able to buy a jacket\")\n",
    "    elif price < 300:\n",
    "        print(\"i will be able to buy a shirt\")\n",
    "else : \n",
    "    print(\"i won't be able to buy anything with this price tag\")"
   ]
  },
  {
   "cell_type": "code",
   "execution_count": 17,
   "id": "6e3ee751",
   "metadata": {},
   "outputs": [
    {
     "name": "stdout",
     "output_type": "stream",
     "text": [
      "300\n",
      "no gre\n",
      "i will apply for toffel\n",
      "try somthing\n"
     ]
    }
   ],
   "source": [
    "marks = int(input())\n",
    "if marks < 600:\n",
    "    print(\"no gre\")\n",
    "    if marks < 500:\n",
    "        print(\"i will apply for toffel\")\n",
    "        if marks < 400:\n",
    "            print(\"try somthing\")\n",
    "else:\n",
    "    print(\"i will able to get admission in GRE\")"
   ]
  },
  {
   "cell_type": "code",
   "execution_count": 19,
   "id": "4ac8c7a6",
   "metadata": {},
   "outputs": [
    {
     "name": "stdout",
     "output_type": "stream",
     "text": [
      "enter a floating point number : -45\n",
      "enterd number is negative number \n"
     ]
    }
   ],
   "source": [
    "val = float(input(\"enter a floating point number : \"))\n",
    "if val >=0 :\n",
    "    if val == 0:\n",
    "        print(\"enterd value is zero\")\n",
    "    else:\n",
    "        print(\"enter value is positive number \")\n",
    "else: \n",
    "    print(\"enterd number is negative number \")"
   ]
  },
  {
   "cell_type": "code",
   "execution_count": 22,
   "id": "4a2fc3c3",
   "metadata": {},
   "outputs": [
    {
     "name": "stdout",
     "output_type": "stream",
     "text": [
      "try to do something\n"
     ]
    }
   ],
   "source": [
    "a = 10 \n",
    "if a < 10 or a == 10 :\n",
    "    print(\"try to do something\")"
   ]
  },
  {
   "cell_type": "raw",
   "id": "80a74e3c",
   "metadata": {},
   "source": [
    "OR TABLE      AND TABLE \n",
    "F  F - F     F  F - F \n",
    "T  T - T     T  T - T\n",
    "T  F - T     T  F - F\n",
    "F  T - T     F  T - F"
   ]
  },
  {
   "cell_type": "code",
   "execution_count": 24,
   "id": "86356d90",
   "metadata": {},
   "outputs": [
    {
     "name": "stdout",
     "output_type": "stream",
     "text": [
      "don't do anything\n"
     ]
    }
   ],
   "source": [
    " a = 10 \n",
    "if a < 10 and a == 10 :\n",
    "    print(\"try to do something\")\n",
    "else:\n",
    "    print(\"don't do anything\")"
   ]
  },
  {
   "cell_type": "code",
   "execution_count": 25,
   "id": "669971b0",
   "metadata": {},
   "outputs": [
    {
     "name": "stdout",
     "output_type": "stream",
     "text": [
      "this is sudh\n"
     ]
    }
   ],
   "source": [
    "a = \"sudh\"\n",
    "if a == \"sudh\" or a == \"Sudh\":\n",
    "    print(\"this is sudh\")"
   ]
  },
  {
   "cell_type": "code",
   "execution_count": 28,
   "id": "bf6f6d2c",
   "metadata": {},
   "outputs": [],
   "source": [
    "a = \"sudh\"\n",
    "if a == \"sudh\" and a == \"Sudh\":\n",
    "    print(\"this is sudh\")"
   ]
  },
  {
   "cell_type": "code",
   "execution_count": 29,
   "id": "9ea9d750",
   "metadata": {},
   "outputs": [],
   "source": [
    "a = 10\n",
    "b = 11\n",
    "c = 12\n",
    "d = 13\n",
    "if a == 9 and b == 11 and c == 12 and d == 13:\n",
    "    print(\"do something\")"
   ]
  },
  {
   "cell_type": "code",
   "execution_count": 30,
   "id": "0e75b010",
   "metadata": {},
   "outputs": [
    {
     "name": "stdout",
     "output_type": "stream",
     "text": [
      "do something\n"
     ]
    }
   ],
   "source": [
    "a = 10\n",
    "b = 11\n",
    "c = 12\n",
    "d = 13\n",
    "if a == 9 or b == 11 and c == 12 and d == 13:\n",
    "    print(\"do something\")"
   ]
  },
  {
   "cell_type": "code",
   "execution_count": 31,
   "id": "7dd18b88",
   "metadata": {},
   "outputs": [],
   "source": [
    "d = {'key1' : \"value\" , \"key2\" : \"sudh\" , \"key3\" : \"iNeuron\"}"
   ]
  },
  {
   "cell_type": "code",
   "execution_count": 34,
   "id": "0098ff90",
   "metadata": {},
   "outputs": [
    {
     "name": "stdout",
     "output_type": "stream",
     "text": [
      "all the value are verified\n",
      "dict_values(['value', 'sudh', 'iNeuron'])\n"
     ]
    }
   ],
   "source": [
    "if d['key1'] ==  \"value\" and d[\"key2\"] == \"sudh\" and d[\"key3\"] == \"iNeuron\":\n",
    "    print(\"all the value are verified\")\n",
    "    print(d.values())\n",
    "else:\n",
    "    print(\"all the values are not verified\")"
   ]
  },
  {
   "cell_type": "code",
   "execution_count": 35,
   "id": "f923b1b1",
   "metadata": {},
   "outputs": [
    {
     "name": "stdout",
     "output_type": "stream",
     "text": [
      "all the values are not verified\n"
     ]
    }
   ],
   "source": [
    "if d['key1'] ==  \"value\" and d[\"key2\"] == \"Sudh\" and d[\"key3\"] == \"iNeuron\":\n",
    "    print(\"all the value are verified\")\n",
    "    print(d.values())\n",
    "else:\n",
    "    print(\"all the values are not verified\")"
   ]
  },
  {
   "cell_type": "code",
   "execution_count": 36,
   "id": "d279754d",
   "metadata": {},
   "outputs": [],
   "source": [
    "l = [1,1.4,2,3,4,5,6,\"vish\"]"
   ]
  },
  {
   "cell_type": "code",
   "execution_count": 37,
   "id": "21a457d3",
   "metadata": {},
   "outputs": [
    {
     "data": {
      "text/plain": [
       "list"
      ]
     },
     "execution_count": 37,
     "metadata": {},
     "output_type": "execute_result"
    }
   ],
   "source": [
    "type(l)"
   ]
  },
  {
   "cell_type": "code",
   "execution_count": 38,
   "id": "d64c2751",
   "metadata": {},
   "outputs": [
    {
     "name": "stdout",
     "output_type": "stream",
     "text": [
      "1\n",
      "1.4\n",
      "2\n",
      "3\n",
      "4\n",
      "5\n",
      "6\n",
      "vish\n"
     ]
    }
   ],
   "source": [
    "for i in l:\n",
    "    print(i)"
   ]
  },
  {
   "cell_type": "code",
   "execution_count": 39,
   "id": "752eab6c",
   "metadata": {},
   "outputs": [
    {
     "name": "stdout",
     "output_type": "stream",
     "text": [
      "2\n",
      "2.4\n",
      "3\n",
      "4\n",
      "5\n",
      "6\n",
      "7\n"
     ]
    },
    {
     "ename": "TypeError",
     "evalue": "can only concatenate str (not \"int\") to str",
     "output_type": "error",
     "traceback": [
      "\u001b[1;31m---------------------------------------------------------------------------\u001b[0m",
      "\u001b[1;31mTypeError\u001b[0m                                 Traceback (most recent call last)",
      "Cell \u001b[1;32mIn[39], line 2\u001b[0m\n\u001b[0;32m      1\u001b[0m \u001b[38;5;28;01mfor\u001b[39;00m i \u001b[38;5;129;01min\u001b[39;00m l:\n\u001b[1;32m----> 2\u001b[0m     \u001b[38;5;28mprint\u001b[39m(i\u001b[38;5;241m+\u001b[39m\u001b[38;5;241m1\u001b[39m)\n",
      "\u001b[1;31mTypeError\u001b[0m: can only concatenate str (not \"int\") to str"
     ]
    }
   ],
   "source": [
    "for i in l:\n",
    "    print(i+1)"
   ]
  },
  {
   "cell_type": "code",
   "execution_count": 41,
   "id": "b31571ca",
   "metadata": {},
   "outputs": [
    {
     "name": "stdout",
     "output_type": "stream",
     "text": [
      "2\n",
      "2.4\n",
      "3\n",
      "4\n",
      "5\n",
      "6\n",
      "7\n",
      "vish1\n"
     ]
    }
   ],
   "source": [
    "for i in l:\n",
    "    if type(i) == int:\n",
    "        print(i+1)\n",
    "    elif type(i) == str:\n",
    "        print(i + str(1))\n",
    "    elif type(i) == float:\n",
    "        print(i + float(1))"
   ]
  },
  {
   "cell_type": "code",
   "execution_count": null,
   "id": "81969b07",
   "metadata": {},
   "outputs": [],
   "source": []
  }
 ],
 "metadata": {
  "kernelspec": {
   "display_name": "Python 3 (ipykernel)",
   "language": "python",
   "name": "python3"
  },
  "language_info": {
   "codemirror_mode": {
    "name": "ipython",
    "version": 3
   },
   "file_extension": ".py",
   "mimetype": "text/x-python",
   "name": "python",
   "nbconvert_exporter": "python",
   "pygments_lexer": "ipython3",
   "version": "3.11.5"
  }
 },
 "nbformat": 4,
 "nbformat_minor": 5
}
