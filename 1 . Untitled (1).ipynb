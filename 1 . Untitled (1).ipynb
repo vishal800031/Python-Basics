{
 "cells": [
  {
   "cell_type": "code",
   "execution_count": 1,
   "id": "19dbf4aa",
   "metadata": {},
   "outputs": [],
   "source": [
    "a=11"
   ]
  },
  {
   "cell_type": "code",
   "execution_count": 2,
   "id": "7954b174",
   "metadata": {},
   "outputs": [
    {
     "data": {
      "text/plain": [
       "11"
      ]
     },
     "execution_count": 2,
     "metadata": {},
     "output_type": "execute_result"
    }
   ],
   "source": [
    "a"
   ]
  },
  {
   "cell_type": "code",
   "execution_count": 3,
   "id": "ad11326e",
   "metadata": {},
   "outputs": [],
   "source": [
    "b = \"first person\""
   ]
  },
  {
   "cell_type": "code",
   "execution_count": 4,
   "id": "6c803ed4",
   "metadata": {},
   "outputs": [
    {
     "data": {
      "text/plain": [
       "'r'"
      ]
     },
     "execution_count": 4,
     "metadata": {},
     "output_type": "execute_result"
    }
   ],
   "source": [
    "b[2]"
   ]
  },
  {
   "cell_type": "code",
   "execution_count": 5,
   "id": "8c807e93",
   "metadata": {},
   "outputs": [
    {
     "data": {
      "text/plain": [
       "'f'"
      ]
     },
     "execution_count": 5,
     "metadata": {},
     "output_type": "execute_result"
    }
   ],
   "source": [
    "b[0:1]"
   ]
  },
  {
   "cell_type": "code",
   "execution_count": 6,
   "id": "85ce06e3",
   "metadata": {},
   "outputs": [
    {
     "data": {
      "text/plain": [
       "'irst pe'"
      ]
     },
     "execution_count": 6,
     "metadata": {},
     "output_type": "execute_result"
    }
   ],
   "source": [
    "b[1:8]"
   ]
  },
  {
   "cell_type": "code",
   "execution_count": 7,
   "id": "826dd608",
   "metadata": {},
   "outputs": [
    {
     "data": {
      "text/plain": [
       "'is e'"
      ]
     },
     "execution_count": 7,
     "metadata": {},
     "output_type": "execute_result"
    }
   ],
   "source": [
    "b[1:8:2]"
   ]
  },
  {
   "cell_type": "code",
   "execution_count": 8,
   "id": "74672055",
   "metadata": {},
   "outputs": [
    {
     "data": {
      "text/plain": [
       "''"
      ]
     },
     "execution_count": 8,
     "metadata": {},
     "output_type": "execute_result"
    }
   ],
   "source": [
    "b[1:8:-1]"
   ]
  },
  {
   "cell_type": "code",
   "execution_count": 9,
   "id": "0ec4d5ff",
   "metadata": {},
   "outputs": [
    {
     "data": {
      "text/plain": [
       "'rep tsri'"
      ]
     },
     "execution_count": 9,
     "metadata": {},
     "output_type": "execute_result"
    }
   ],
   "source": [
    "b[8:0:-1]"
   ]
  },
  {
   "cell_type": "code",
   "execution_count": 11,
   "id": "db41d806",
   "metadata": {},
   "outputs": [],
   "source": [
    "s1=\"appology\""
   ]
  },
  {
   "cell_type": "code",
   "execution_count": 12,
   "id": "3f8b3916",
   "metadata": {},
   "outputs": [
    {
     "data": {
      "text/plain": [
       "''"
      ]
     },
     "execution_count": 12,
     "metadata": {},
     "output_type": "execute_result"
    }
   ],
   "source": [
    "s1[-1:-7:1] "
   ]
  },
  {
   "cell_type": "code",
   "execution_count": 13,
   "id": "9eeaec70",
   "metadata": {},
   "outputs": [
    {
     "data": {
      "text/plain": [
       "'ppolog'"
      ]
     },
     "execution_count": 13,
     "metadata": {},
     "output_type": "execute_result"
    }
   ],
   "source": [
    "s1[-7:-1:1] "
   ]
  },
  {
   "cell_type": "code",
   "execution_count": 16,
   "id": "f4dc412c",
   "metadata": {},
   "outputs": [
    {
     "data": {
      "text/plain": [
       "str"
      ]
     },
     "execution_count": 16,
     "metadata": {},
     "output_type": "execute_result"
    }
   ],
   "source": [
    "type(s1)"
   ]
  },
  {
   "cell_type": "code",
   "execution_count": 17,
   "id": "ee14bc34",
   "metadata": {},
   "outputs": [
    {
     "ename": "TypeError",
     "evalue": "can only concatenate str (not \"int\") to str",
     "output_type": "error",
     "traceback": [
      "\u001b[1;31m---------------------------------------------------------------------------\u001b[0m",
      "\u001b[1;31mTypeError\u001b[0m                                 Traceback (most recent call last)",
      "Cell \u001b[1;32mIn[17], line 1\u001b[0m\n\u001b[1;32m----> 1\u001b[0m s1 \u001b[38;5;241m+\u001b[39m\u001b[38;5;241m1\u001b[39m\n",
      "\u001b[1;31mTypeError\u001b[0m: can only concatenate str (not \"int\") to str"
     ]
    }
   ],
   "source": [
    "s1 +1"
   ]
  },
  {
   "cell_type": "code",
   "execution_count": 22,
   "id": "f8c7d7db",
   "metadata": {},
   "outputs": [
    {
     "data": {
      "text/plain": [
       "'appology1'"
      ]
     },
     "execution_count": 22,
     "metadata": {},
     "output_type": "execute_result"
    }
   ],
   "source": [
    "s1 + '1'          # to adding any information to any dat  type and this process is known as concatination "
   ]
  },
  {
   "cell_type": "code",
   "execution_count": 23,
   "id": "fc90e7c3",
   "metadata": {},
   "outputs": [
    {
     "data": {
      "text/plain": [
       "'appology12345456942'"
      ]
     },
     "execution_count": 23,
     "metadata": {},
     "output_type": "execute_result"
    }
   ],
   "source": [
    "s1 +  '12345456942'"
   ]
  },
  {
   "cell_type": "code",
   "execution_count": 24,
   "id": "400549f8",
   "metadata": {},
   "outputs": [
    {
     "data": {
      "text/plain": [
       "'appology'"
      ]
     },
     "execution_count": 24,
     "metadata": {},
     "output_type": "execute_result"
    }
   ],
   "source": [
    "s1"
   ]
  },
  {
   "cell_type": "code",
   "execution_count": 25,
   "id": "53f57246",
   "metadata": {},
   "outputs": [
    {
     "data": {
      "text/plain": [
       "'appologyappology'"
      ]
     },
     "execution_count": 25,
     "metadata": {},
     "output_type": "execute_result"
    }
   ],
   "source": [
    "s1* 2            3this is the way to repeat "
   ]
  },
  {
   "cell_type": "code",
   "execution_count": 26,
   "id": "07b1bb83",
   "metadata": {},
   "outputs": [
    {
     "data": {
      "text/plain": [
       "8"
      ]
     },
     "execution_count": 26,
     "metadata": {},
     "output_type": "execute_result"
    }
   ],
   "source": [
    "len(s1)       # way to calculate the lenght of the given data type "
   ]
  },
  {
   "cell_type": "code",
   "execution_count": 27,
   "id": "c394c701",
   "metadata": {},
   "outputs": [
    {
     "data": {
      "text/plain": [
       "<function str.capitalize()>"
      ]
     },
     "execution_count": 27,
     "metadata": {},
     "output_type": "execute_result"
    }
   ],
   "source": [
    "s1.count()"
   ]
  },
  {
   "cell_type": "code",
   "execution_count": 2,
   "id": "14349369",
   "metadata": {},
   "outputs": [],
   "source": [
    "sw= '''Samsung Group,[3] or simply Samsung (Korean: 삼성; RR: samseong [samsʌŋ]; stylized as SΛMSUNG), is a South Korean multinational manufacturing conglomerate headquartered in Samsung Digital City, Suwon, South Korea.[1] It comprises numerous affiliated businesses,[1] most of them united under the Samsung brand, and is the largest South Korean chaebol (business conglomerate). As of 2020, Samsung has the eighth-highest global brand value.[4]'''"
   ]
  },
  {
   "cell_type": "code",
   "execution_count": 33,
   "id": "943f6c92",
   "metadata": {},
   "outputs": [
    {
     "data": {
      "text/plain": [
       "'Samsung Group,[3] or simply Samsung (Korean: 삼성; RR: samseong [samsʌŋ]; stylized as SΛMSUNG), is a South Korean multinational manufacturing conglomerate headquartered in Samsung Digital City, Suwon, South Korea.[1] It comprises numerous affiliated businesses,[1] most of them united under the Samsung brand, and is the largest South Korean chaebol (business conglomerate). As of 2020, Samsung has the eighth-highest global brand value.[4]'"
      ]
     },
     "execution_count": 33,
     "metadata": {},
     "output_type": "execute_result"
    }
   ],
   "source": [
    "sw   # always try to consider ('''  ''') triple quote in multi line of string in some of the case python will not able to understand the string "
   ]
  },
  {
   "cell_type": "code",
   "execution_count": 34,
   "id": "ecf91d0d",
   "metadata": {},
   "outputs": [
    {
     "data": {
      "text/plain": [
       "['Samsung',\n",
       " 'Group,[3]',\n",
       " 'or',\n",
       " 'simply',\n",
       " 'Samsung',\n",
       " '(Korean:',\n",
       " '삼성;',\n",
       " 'RR:',\n",
       " 'samseong',\n",
       " '[samsʌŋ];',\n",
       " 'stylized',\n",
       " 'as',\n",
       " 'SΛMSUNG),',\n",
       " 'is',\n",
       " 'a',\n",
       " 'South',\n",
       " 'Korean',\n",
       " 'multinational',\n",
       " 'manufacturing',\n",
       " 'conglomerate',\n",
       " 'headquartered',\n",
       " 'in',\n",
       " 'Samsung',\n",
       " 'Digital',\n",
       " 'City,',\n",
       " 'Suwon,',\n",
       " 'South',\n",
       " 'Korea.[1]',\n",
       " 'It',\n",
       " 'comprises',\n",
       " 'numerous',\n",
       " 'affiliated',\n",
       " 'businesses,[1]',\n",
       " 'most',\n",
       " 'of',\n",
       " 'them',\n",
       " 'united',\n",
       " 'under',\n",
       " 'the',\n",
       " 'Samsung',\n",
       " 'brand,',\n",
       " 'and',\n",
       " 'is',\n",
       " 'the',\n",
       " 'largest',\n",
       " 'South',\n",
       " 'Korean',\n",
       " 'chaebol',\n",
       " '(business',\n",
       " 'conglomerate).',\n",
       " 'As',\n",
       " 'of',\n",
       " '2020,',\n",
       " 'Samsung',\n",
       " 'has',\n",
       " 'the',\n",
       " 'eighth-highest',\n",
       " 'global',\n",
       " 'brand',\n",
       " 'value.[4]']"
      ]
     },
     "execution_count": 34,
     "metadata": {},
     "output_type": "execute_result"
    }
   ],
   "source": [
    "sw.split( )"
   ]
  },
  {
   "cell_type": "code",
   "execution_count": 3,
   "id": "cf5e77f6",
   "metadata": {},
   "outputs": [
    {
     "data": {
      "text/plain": [
       "'SAMSUNG GROUP,[3] OR SIMPLY SAMSUNG (KOREAN: 삼성; RR: SAMSEONG [SAMSɅŊ]; STYLIZED AS SΛMSUNG), IS A SOUTH KOREAN MULTINATIONAL MANUFACTURING CONGLOMERATE HEADQUARTERED IN SAMSUNG DIGITAL CITY, SUWON, SOUTH KOREA.[1] IT COMPRISES NUMEROUS AFFILIATED BUSINESSES,[1] MOST OF THEM UNITED UNDER THE SAMSUNG BRAND, AND IS THE LARGEST SOUTH KOREAN CHAEBOL (BUSINESS CONGLOMERATE). AS OF 2020, SAMSUNG HAS THE EIGHTH-HIGHEST GLOBAL BRAND VALUE.[4]'"
      ]
     },
     "execution_count": 3,
     "metadata": {},
     "output_type": "execute_result"
    }
   ],
   "source": [
    "sw.upper()"
   ]
  },
  {
   "cell_type": "code",
   "execution_count": 4,
   "id": "f593760f",
   "metadata": {},
   "outputs": [
    {
     "data": {
      "text/plain": [
       "'samsung group,[3] or simply samsung (korean: 삼성; rr: samseong [samsʌŋ]; stylized as sλmsung), is a south korean multinational manufacturing conglomerate headquartered in samsung digital city, suwon, south korea.[1] it comprises numerous affiliated businesses,[1] most of them united under the samsung brand, and is the largest south korean chaebol (business conglomerate). as of 2020, samsung has the eighth-highest global brand value.[4]'"
      ]
     },
     "execution_count": 4,
     "metadata": {},
     "output_type": "execute_result"
    }
   ],
   "source": [
    "sw.lower()"
   ]
  },
  {
   "cell_type": "code",
   "execution_count": 5,
   "id": "199ac7db",
   "metadata": {},
   "outputs": [
    {
     "data": {
      "text/plain": [
       "'Samsung Group,[3] or simply Samsung (Korean: 삼성; RR: samseong [samsʌŋ]; stylized as SΛMSUNG), is a South Korean multinational manufacturing conglomerate headquartered in Samsung Digital City, Suwon, South Korea.[1] It comprises numerous affiliated businesses,[1] most of them united under the Samsung brand, and is the largest South Korean chaebol (business conglomerate). As of 2020, Samsung has the eighth-highest global brand value.[4]'"
      ]
     },
     "execution_count": 5,
     "metadata": {},
     "output_type": "execute_result"
    }
   ],
   "source": [
    "sw"
   ]
  },
  {
   "cell_type": "code",
   "execution_count": 8,
   "id": "1cf2b123",
   "metadata": {},
   "outputs": [],
   "source": [
    "sw=sw.upper()     # this is the way data of sw will be replaced with upper case of sw "
   ]
  },
  {
   "cell_type": "code",
   "execution_count": 7,
   "id": "efadd157",
   "metadata": {},
   "outputs": [
    {
     "data": {
      "text/plain": [
       "'SAMSUNG GROUP,[3] OR SIMPLY SAMSUNG (KOREAN: 삼성; RR: SAMSEONG [SAMSɅŊ]; STYLIZED AS SΛMSUNG), IS A SOUTH KOREAN MULTINATIONAL MANUFACTURING CONGLOMERATE HEADQUARTERED IN SAMSUNG DIGITAL CITY, SUWON, SOUTH KOREA.[1] IT COMPRISES NUMEROUS AFFILIATED BUSINESSES,[1] MOST OF THEM UNITED UNDER THE SAMSUNG BRAND, AND IS THE LARGEST SOUTH KOREAN CHAEBOL (BUSINESS CONGLOMERATE). AS OF 2020, SAMSUNG HAS THE EIGHTH-HIGHEST GLOBAL BRAND VALUE.[4]'"
      ]
     },
     "execution_count": 7,
     "metadata": {},
     "output_type": "execute_result"
    }
   ],
   "source": [
    "sw"
   ]
  },
  {
   "cell_type": "code",
   "execution_count": 10,
   "id": "e69049a1",
   "metadata": {},
   "outputs": [],
   "source": [
    "v=\"best\""
   ]
  },
  {
   "cell_type": "code",
   "execution_count": 12,
   "id": "c3316adc",
   "metadata": {},
   "outputs": [
    {
     "data": {
      "text/plain": [
       "'Best'"
      ]
     },
     "execution_count": 12,
     "metadata": {},
     "output_type": "execute_result"
    }
   ],
   "source": [
    "v.title()     # command to convert the every letter of a word in a sentence in capital letter "
   ]
  },
  {
   "cell_type": "code",
   "execution_count": 13,
   "id": "c878a866",
   "metadata": {},
   "outputs": [],
   "source": [
    "m=\"you are the best\""
   ]
  },
  {
   "cell_type": "code",
   "execution_count": 14,
   "id": "50f13e0e",
   "metadata": {},
   "outputs": [
    {
     "data": {
      "text/plain": [
       "'You Are The Best'"
      ]
     },
     "execution_count": 14,
     "metadata": {},
     "output_type": "execute_result"
    }
   ],
   "source": [
    "m.title()"
   ]
  },
  {
   "cell_type": "code",
   "execution_count": 15,
   "id": "f36f61a4",
   "metadata": {},
   "outputs": [
    {
     "data": {
      "text/plain": [
       "'You are the best'"
      ]
     },
     "execution_count": 15,
     "metadata": {},
     "output_type": "execute_result"
    }
   ],
   "source": [
    "m.capitalize()    # command to convert the first letter capital of the given sentence "
   ]
  },
  {
   "cell_type": "code",
   "execution_count": 16,
   "id": "0d3efbe9",
   "metadata": {},
   "outputs": [],
   "source": [
    "n='yoU ARE ugLY'"
   ]
  },
  {
   "cell_type": "code",
   "execution_count": 17,
   "id": "f3f89b86",
   "metadata": {},
   "outputs": [
    {
     "data": {
      "text/plain": [
       "'YOu are UGly'"
      ]
     },
     "execution_count": 17,
     "metadata": {},
     "output_type": "execute_result"
    }
   ],
   "source": [
    "n.swapcase()      # command to swap the capital into small and small into capital letters "
   ]
  },
  {
   "cell_type": "code",
   "execution_count": 27,
   "id": "5516a833",
   "metadata": {},
   "outputs": [
    {
     "data": {
      "text/plain": [
       "'YLgu ERA Uoy'"
      ]
     },
     "execution_count": 27,
     "metadata": {},
     "output_type": "execute_result"
    }
   ],
   "source": [
    "''.join(reversed(n))  # another way to reverse a string (first oone is  (::-1)) "
   ]
  },
  {
   "cell_type": "code",
   "execution_count": 28,
   "id": "b0977c05",
   "metadata": {},
   "outputs": [
    {
     "data": {
      "text/plain": [
       "'YLgu ERA Uoy'"
      ]
     },
     "execution_count": 28,
     "metadata": {},
     "output_type": "execute_result"
    }
   ],
   "source": [
    "n[::-1]   # this the simple and easiest way to reverse any data "
   ]
  },
  {
   "cell_type": "code",
   "execution_count": 29,
   "id": "9331e465",
   "metadata": {},
   "outputs": [],
   "source": [
    "c='book'"
   ]
  },
  {
   "cell_type": "code",
   "execution_count": 32,
   "id": "53037639",
   "metadata": {},
   "outputs": [],
   "source": [
    "cv='  book  is   good    '"
   ]
  },
  {
   "cell_type": "code",
   "execution_count": 33,
   "id": "8e29a202",
   "metadata": {},
   "outputs": [
    {
     "data": {
      "text/plain": [
       "'book  is   good'"
      ]
     },
     "execution_count": 33,
     "metadata": {},
     "output_type": "execute_result"
    }
   ],
   "source": [
    "cv.strip()   # command to remove the space present btw the starting and end of the string "
   ]
  },
  {
   "cell_type": "code",
   "execution_count": 35,
   "id": "36fbd829",
   "metadata": {},
   "outputs": [
    {
     "data": {
      "text/plain": [
       "'book  is   good    '"
      ]
     },
     "execution_count": 35,
     "metadata": {},
     "output_type": "execute_result"
    }
   ],
   "source": [
    "cv.lstrip() # command to remove the space present at the left side of the string  "
   ]
  },
  {
   "cell_type": "code",
   "execution_count": 36,
   "id": "507f3d3a",
   "metadata": {},
   "outputs": [
    {
     "data": {
      "text/plain": [
       "'  book  is   good'"
      ]
     },
     "execution_count": 36,
     "metadata": {},
     "output_type": "execute_result"
    }
   ],
   "source": [
    "cv.rstrip()  # command to remove the space present at the right side of the string "
   ]
  },
  {
   "cell_type": "code",
   "execution_count": 37,
   "id": "4bf1cecb",
   "metadata": {},
   "outputs": [],
   "source": [
    "cm=\"jumping\""
   ]
  },
  {
   "cell_type": "code",
   "execution_count": 41,
   "id": "32d118fc",
   "metadata": {},
   "outputs": [
    {
     "data": {
      "text/plain": [
       "'j * u * m * p * i * n * g'"
      ]
     },
     "execution_count": 41,
     "metadata": {},
     "output_type": "execute_result"
    }
   ],
   "source": [
    "\" * \".join(\"jumping\")   # command to join anything after the each character of the string"
   ]
  },
  {
   "cell_type": "code",
   "execution_count": 46,
   "id": "d0e93b3d",
   "metadata": {},
   "outputs": [
    {
     "data": {
      "text/plain": [
       "'vvvvvvjumpingvvvvvv'"
      ]
     },
     "execution_count": 46,
     "metadata": {},
     "output_type": "execute_result"
    }
   ],
   "source": [
    "cm.center(19,\"v\")  # command to add something in right side and left side of the given data \n",
    "        # syntax  [string_name .center(size_after_adding_something , \"thing_you_want_to_add\" )]"
   ]
  },
  {
   "cell_type": "code",
   "execution_count": 47,
   "id": "f667f099",
   "metadata": {},
   "outputs": [],
   "source": [
    "xs='vish'"
   ]
  },
  {
   "cell_type": "code",
   "execution_count": 49,
   "id": "b26ebcc1",
   "metadata": {},
   "outputs": [
    {
     "data": {
      "text/plain": [
       "False"
      ]
     },
     "execution_count": 49,
     "metadata": {},
     "output_type": "execute_result"
    }
   ],
   "source": [
    "xs.isupper()   # \" is \" is the command to check the data is correct or not according to our condition "
   ]
  },
  {
   "cell_type": "code",
   "execution_count": 50,
   "id": "c06b0ff7",
   "metadata": {},
   "outputs": [
    {
     "data": {
      "text/plain": [
       "False"
      ]
     },
     "execution_count": 50,
     "metadata": {},
     "output_type": "execute_result"
    }
   ],
   "source": [
    "xs.isupper()"
   ]
  },
  {
   "cell_type": "code",
   "execution_count": 51,
   "id": "73965e1b",
   "metadata": {},
   "outputs": [
    {
     "data": {
      "text/plain": [
       "False"
      ]
     },
     "execution_count": 51,
     "metadata": {},
     "output_type": "execute_result"
    }
   ],
   "source": [
    "xs.isspace()"
   ]
  },
  {
   "cell_type": "code",
   "execution_count": 52,
   "id": "922d17ad",
   "metadata": {},
   "outputs": [],
   "source": [
    "cd='  '   "
   ]
  },
  {
   "cell_type": "code",
   "execution_count": 77,
   "id": "c94ec149",
   "metadata": {},
   "outputs": [
    {
     "data": {
      "text/plain": [
       "True"
      ]
     },
     "execution_count": 77,
     "metadata": {},
     "output_type": "execute_result"
    }
   ],
   "source": [
    "cd.isspace()   # this condition Only happen when the complete string is blank, There is no any character present inside the given string\n"
   ]
  },
  {
   "cell_type": "code",
   "execution_count": 54,
   "id": "c5db0cb4",
   "metadata": {},
   "outputs": [
    {
     "data": {
      "text/plain": [
       "'vish'"
      ]
     },
     "execution_count": 54,
     "metadata": {},
     "output_type": "execute_result"
    }
   ],
   "source": [
    "xs"
   ]
  },
  {
   "cell_type": "code",
   "execution_count": 55,
   "id": "62c515c1",
   "metadata": {},
   "outputs": [
    {
     "data": {
      "text/plain": [
       "False"
      ]
     },
     "execution_count": 55,
     "metadata": {},
     "output_type": "execute_result"
    }
   ],
   "source": [
    "xs.isdigit()"
   ]
  },
  {
   "cell_type": "code",
   "execution_count": 56,
   "id": "58fbebb5",
   "metadata": {},
   "outputs": [],
   "source": [
    "za='123456'"
   ]
  },
  {
   "cell_type": "code",
   "execution_count": 57,
   "id": "6c555676",
   "metadata": {},
   "outputs": [
    {
     "data": {
      "text/plain": [
       "True"
      ]
     },
     "execution_count": 57,
     "metadata": {},
     "output_type": "execute_result"
    }
   ],
   "source": [
    "za.isdigit()"
   ]
  },
  {
   "cell_type": "code",
   "execution_count": 60,
   "id": "d5839dd7",
   "metadata": {},
   "outputs": [],
   "source": [
    "sw = '123b345'    # in this there is a character (b) present inside the values so it is giving false "
   ]
  },
  {
   "cell_type": "code",
   "execution_count": 61,
   "id": "bc980cb0",
   "metadata": {},
   "outputs": [
    {
     "data": {
      "text/plain": [
       "False"
      ]
     },
     "execution_count": 61,
     "metadata": {},
     "output_type": "execute_result"
    }
   ],
   "source": [
    "sw.isdigit()"
   ]
  },
  {
   "cell_type": "code",
   "execution_count": 64,
   "id": "6fe6c336",
   "metadata": {},
   "outputs": [
    {
     "data": {
      "text/plain": [
       "True"
      ]
     },
     "execution_count": 64,
     "metadata": {},
     "output_type": "execute_result"
    }
   ],
   "source": [
    "sw.isalnum()    # alnum means alphabets + numerical values"
   ]
  },
  {
   "cell_type": "code",
   "execution_count": 63,
   "id": "00375725",
   "metadata": {},
   "outputs": [
    {
     "data": {
      "text/plain": [
       "False"
      ]
     },
     "execution_count": 63,
     "metadata": {},
     "output_type": "execute_result"
    }
   ],
   "source": [
    "sw.isalpha()"
   ]
  },
  {
   "cell_type": "code",
   "execution_count": 66,
   "id": "3d8324f9",
   "metadata": {},
   "outputs": [
    {
     "data": {
      "text/plain": [
       "False"
      ]
     },
     "execution_count": 66,
     "metadata": {},
     "output_type": "execute_result"
    }
   ],
   "source": [
    "sw.startswith('o')"
   ]
  },
  {
   "cell_type": "code",
   "execution_count": 67,
   "id": "a3f93ea3",
   "metadata": {},
   "outputs": [
    {
     "data": {
      "text/plain": [
       "True"
      ]
     },
     "execution_count": 67,
     "metadata": {},
     "output_type": "execute_result"
    }
   ],
   "source": [
    "sw.startswith(\"1\")"
   ]
  },
  {
   "cell_type": "code",
   "execution_count": 68,
   "id": "e83dc83d",
   "metadata": {},
   "outputs": [
    {
     "data": {
      "text/plain": [
       "'book'"
      ]
     },
     "execution_count": 68,
     "metadata": {},
     "output_type": "execute_result"
    }
   ],
   "source": [
    "c"
   ]
  },
  {
   "cell_type": "code",
   "execution_count": 70,
   "id": "080f72a6",
   "metadata": {},
   "outputs": [
    {
     "data": {
      "text/plain": [
       "False"
      ]
     },
     "execution_count": 70,
     "metadata": {},
     "output_type": "execute_result"
    }
   ],
   "source": [
    "c.startswith('B')  # we know that python is case sensetive language. In the given condition the letter b  is capital so it gives false."
   ]
  },
  {
   "cell_type": "code",
   "execution_count": 71,
   "id": "fd59a096",
   "metadata": {},
   "outputs": [
    {
     "data": {
      "text/plain": [
       "True"
      ]
     },
     "execution_count": 71,
     "metadata": {},
     "output_type": "execute_result"
    }
   ],
   "source": [
    "c.startswith('b')"
   ]
  },
  {
   "cell_type": "code",
   "execution_count": 72,
   "id": "6df3c25b",
   "metadata": {},
   "outputs": [
    {
     "data": {
      "text/plain": [
       "'you are the best'"
      ]
     },
     "execution_count": 72,
     "metadata": {},
     "output_type": "execute_result"
    }
   ],
   "source": [
    "m"
   ]
  },
  {
   "cell_type": "code",
   "execution_count": 75,
   "id": "f451b9c4",
   "metadata": {},
   "outputs": [],
   "source": [
    "kl='vish1224   '    # in this there is a space at the end of the data so it gives false  "
   ]
  },
  {
   "cell_type": "code",
   "execution_count": 76,
   "id": "bf5eaf45",
   "metadata": {},
   "outputs": [
    {
     "data": {
      "text/plain": [
       "False"
      ]
     },
     "execution_count": 76,
     "metadata": {},
     "output_type": "execute_result"
    }
   ],
   "source": [
    "kl.isalnum()"
   ]
  },
  {
   "cell_type": "code",
   "execution_count": 78,
   "id": "8ebd7569",
   "metadata": {},
   "outputs": [
    {
     "data": {
      "text/plain": [
       "'h s i v'"
      ]
     },
     "execution_count": 78,
     "metadata": {},
     "output_type": "execute_result"
    }
   ],
   "source": [
    "\" \".join(reversed(\"vish\"))"
   ]
  },
  {
   "cell_type": "code",
   "execution_count": 79,
   "id": "1fe27b81",
   "metadata": {},
   "outputs": [
    {
     "data": {
      "text/plain": [
       "'book'"
      ]
     },
     "execution_count": 79,
     "metadata": {},
     "output_type": "execute_result"
    }
   ],
   "source": [
    "c"
   ]
  },
  {
   "cell_type": "code",
   "execution_count": 82,
   "id": "3cf87a10",
   "metadata": {},
   "outputs": [
    {
     "data": {
      "text/plain": [
       "'k o o b'"
      ]
     },
     "execution_count": 82,
     "metadata": {},
     "output_type": "execute_result"
    }
   ],
   "source": [
    "\" \".join(reversed(c[::1]))"
   ]
  },
  {
   "cell_type": "code",
   "execution_count": 102,
   "id": "5dbc447e",
   "metadata": {},
   "outputs": [],
   "source": [
    "x=\"1234\""
   ]
  },
  {
   "cell_type": "code",
   "execution_count": 103,
   "id": "2b7f1374",
   "metadata": {},
   "outputs": [
    {
     "data": {
      "text/plain": [
       "'1234'"
      ]
     },
     "execution_count": 103,
     "metadata": {},
     "output_type": "execute_result"
    }
   ],
   "source": [
    "x"
   ]
  },
  {
   "cell_type": "code",
   "execution_count": 104,
   "id": "39d0fa56",
   "metadata": {},
   "outputs": [
    {
     "data": {
      "text/plain": [
       "True"
      ]
     },
     "execution_count": 104,
     "metadata": {},
     "output_type": "execute_result"
    }
   ],
   "source": [
    "x.isdigit()"
   ]
  },
  {
   "cell_type": "code",
   "execution_count": 105,
   "id": "b9785c7d",
   "metadata": {},
   "outputs": [
    {
     "data": {
      "text/plain": [
       "True"
      ]
     },
     "execution_count": 105,
     "metadata": {},
     "output_type": "execute_result"
    }
   ],
   "source": [
    "x.isnumeric()"
   ]
  },
  {
   "cell_type": "code",
   "execution_count": 106,
   "id": "73c3aef5",
   "metadata": {},
   "outputs": [
    {
     "data": {
      "text/plain": [
       "'jumping'"
      ]
     },
     "execution_count": 106,
     "metadata": {},
     "output_type": "execute_result"
    }
   ],
   "source": [
    "cm"
   ]
  },
  {
   "cell_type": "code",
   "execution_count": 109,
   "id": "8f54fd9b",
   "metadata": {},
   "outputs": [
    {
     "data": {
      "text/plain": [
       "'jumping book    skip'"
      ]
     },
     "execution_count": 109,
     "metadata": {},
     "output_type": "execute_result"
    }
   ],
   "source": [
    "cm=\"jumping\\tbook\\tskip\"\n",
    "cm.expandtabs()"
   ]
  },
  {
   "cell_type": "code",
   "execution_count": null,
   "id": "1d37aa6e",
   "metadata": {},
   "outputs": [],
   "source": []
  }
 ],
 "metadata": {
  "kernelspec": {
   "display_name": "Python 3 (ipykernel)",
   "language": "python",
   "name": "python3"
  },
  "language_info": {
   "codemirror_mode": {
    "name": "ipython",
    "version": 3
   },
   "file_extension": ".py",
   "mimetype": "text/x-python",
   "name": "python",
   "nbconvert_exporter": "python",
   "pygments_lexer": "ipython3",
   "version": "3.11.5"
  }
 },
 "nbformat": 4,
 "nbformat_minor": 5
}
